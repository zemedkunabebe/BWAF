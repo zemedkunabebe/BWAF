{
 "cells": [
  {
   "cell_type": "code",
   "execution_count": 2,
   "id": "f1e84fcf-b9a4-4c80-b895-51a40db2dfed",
   "metadata": {
    "scrolled": true
   },
   "outputs": [
    {
     "name": "stdout",
     "output_type": "stream",
     "text": [
      "✅ Saved losses to:\n",
      "results_ablation_studies/ablation_all_losses.csv\n",
      "                   model  epoch  train_loss  val_loss\n",
      "0  A1_Transformer_Priors      0    0.554252  0.474011\n",
      "1  A1_Transformer_Priors      1    0.443766  0.392110\n",
      "2  A1_Transformer_Priors      2    0.365065  0.307081\n",
      "3  A1_Transformer_Priors      3    0.312617  0.275970\n",
      "4  A1_Transformer_Priors      4    0.274475  0.274747\n",
      "5  A1_Transformer_Priors      5    0.251992  0.218781\n",
      "6  A1_Transformer_Priors      6    0.230154  0.208527\n",
      "7  A1_Transformer_Priors      7    0.211188  0.178917\n",
      "8  A1_Transformer_Priors      8    0.197184  0.164341\n",
      "9  A1_Transformer_Priors      9    0.189866  0.153031\n"
     ]
    }
   ],
   "source": [
    "import os\n",
    "import torch\n",
    "import pandas as pd\n",
    "\n",
    "# Base directory containing all ablation study folders\n",
    "base_dir = \"results_ablation_studies\"  \n",
    "\n",
    "# List all model folders (e.g., A1_Transformer_Priors, A2_GAT_Priors, etc.)\n",
    "model_folders = [\n",
    "    f for f in os.listdir(base_dir)\n",
    "    if os.path.isdir(os.path.join(base_dir, f)) and f.startswith(\"A\")\n",
    "]\n",
    "\n",
    "# Data collection\n",
    "all_data = []\n",
    "\n",
    "for model_name in model_folders:\n",
    "    ckpt_dir = os.path.join(base_dir, model_name, \"checkpoints\")\n",
    "    if not os.path.isdir(ckpt_dir):\n",
    "        continue  # Skip if no checkpoints folder\n",
    "\n",
    "    # List all checkpoint files\n",
    "    checkpoints = sorted(\n",
    "        [f for f in os.listdir(ckpt_dir) if f.startswith(\"checkpoint_epoch_\") and f.endswith(\".pth\")],\n",
    "        key=lambda x: int(x.split('_')[-1].split('.')[0])\n",
    "    )\n",
    "\n",
    "    for ckpt_file in checkpoints:\n",
    "        epoch_num = int(ckpt_file.split('_')[-1].split('.')[0])\n",
    "        ckpt_path = os.path.join(ckpt_dir, ckpt_file)\n",
    "\n",
    "        try:\n",
    "            checkpoint = torch.load(ckpt_path, map_location='cpu')\n",
    "        except Exception as e:\n",
    "            print(f\"Error loading {ckpt_path}: {e}\")\n",
    "            continue\n",
    "\n",
    "        train_losses = checkpoint.get('train_losses', [])\n",
    "        val_losses = checkpoint.get('val_losses', [])\n",
    "\n",
    "        train_loss = (\n",
    "            train_losses[epoch_num]\n",
    "            if isinstance(train_losses, list) and len(train_losses) > epoch_num\n",
    "            else (train_losses if isinstance(train_losses, float) else None)\n",
    "        )\n",
    "        val_loss = (\n",
    "            val_losses[epoch_num]\n",
    "            if isinstance(val_losses, list) and len(val_losses) > epoch_num\n",
    "            else (val_losses if isinstance(val_losses, float) else None)\n",
    "        )\n",
    "\n",
    "        all_data.append({\n",
    "            'model': model_name,\n",
    "            'epoch': epoch_num,\n",
    "            'train_loss': train_loss,\n",
    "            'val_loss': val_loss\n",
    "        })\n",
    "\n",
    "# Create DataFrame and sort\n",
    "df = pd.DataFrame(all_data)\n",
    "df = df.sort_values(['model', 'epoch']).reset_index(drop=True)\n",
    "\n",
    "# Save CSV\n",
    "output_csv = os.path.join(base_dir, 'ablation_all_losses.csv')\n",
    "df.to_csv(output_csv, index=False)\n",
    "\n",
    "print(f\"✅ Saved losses to:\\n{output_csv}\")\n",
    "print(df.head(10))\n"
   ]
  },
  {
   "cell_type": "code",
   "execution_count": null,
   "id": "2752e86e-0ec9-4a8b-a4ae-7a06664693bc",
   "metadata": {},
   "outputs": [],
   "source": []
  }
 ],
 "metadata": {
  "kernelspec": {
   "display_name": "Python 3 (ipykernel)",
   "language": "python",
   "name": "python3"
  },
  "language_info": {
   "codemirror_mode": {
    "name": "ipython",
    "version": 3
   },
   "file_extension": ".py",
   "mimetype": "text/x-python",
   "name": "python",
   "nbconvert_exporter": "python",
   "pygments_lexer": "ipython3",
   "version": "3.10.16"
  }
 },
 "nbformat": 4,
 "nbformat_minor": 5
}
